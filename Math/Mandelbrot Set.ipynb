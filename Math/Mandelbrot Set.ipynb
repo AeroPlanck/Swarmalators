{
 "cells": [
  {
   "cell_type": "code",
   "id": "d5c336cb-7cad-41c8-ac8c-84693939b045",
   "metadata": {
    "jupyter": {
     "is_executing": true
    },
    "ExecuteTime": {
     "start_time": "2024-04-16T17:16:31.002172Z"
    }
   },
   "source": [
    "%matplotlib inline\n",
    "import matplotlib.pyplot as plt\n",
    "import numpy as np\n",
    "\n",
    "# 定义Mandelbrot集的计算函数\n",
    "def mandel(c, max_iters):\n",
    "    z = 0\n",
    "    n = 0\n",
    "    while abs(z) <= 2 and n < max_iters:\n",
    "        z = z * z + c\n",
    "        n += 1\n",
    "    return n\n",
    "\n",
    "# 设置复数平面的参数\n",
    "xmin, xmax = -2.5, 1.5\n",
    "ymin, ymax = -1.5, 1.5\n",
    "width, height = 1200, 1200  # 增加图像的分辨率\n",
    "\n",
    "# 创建复数网格\n",
    "x = np.linspace(xmin, xmax, width)\n",
    "y = np.linspace(ymin, ymax, height)\n",
    "X, Y = np.meshgrid(x, y)\n",
    "C = X + 1j * Y\n",
    "\n",
    "# 计算每个点的Mandelbrot集迭代次数\n",
    "image = np.vectorize(mandel)(C, 1000)  # 使用1000次迭代\n",
    "\n",
    "# 绘制图像\n",
    "plt.imshow(image, cmap='hot', extent=(xmin, xmax, ymin, ymax))\n",
    "plt.colorbar()\n",
    "plt.title('Mandelbrot Set with self-similarity')\n",
    "plt.show()"
   ],
   "outputs": [],
   "execution_count": null
  },
  {
   "cell_type": "code",
   "id": "4e4aebc9-40cd-40e2-9831-9c45fbb76c9c",
   "metadata": {
    "jupyter": {
     "is_executing": true
    }
   },
   "source": [
    "%matplotlib inline\n",
    "import matplotlib.pyplot as plt\n",
    "import numpy as np\n",
    "\n",
    "# 定义Mandelbrot集的计算函数\n",
    "def mandel(c, max_iters):\n",
    "    z = 0\n",
    "    n = 0\n",
    "    for i in range(max_iters):\n",
    "        z = z * z + c\n",
    "        if abs(z) > 2:\n",
    "            return n\n",
    "        n += 1\n",
    "    return max_iters\n",
    "\n",
    "# 设置复数平面的参数\n",
    "xmin, xmax = -2.5, 1.5\n",
    "ymin, ymax = -1.5, 1.5\n",
    "width, height = 800, 800  # 图像分辨率\n",
    "\n",
    "# 创建复数网格\n",
    "x = np.linspace(xmin, xmax, width)\n",
    "y = np.linspace(ymin, ymax, height)\n",
    "X, Y = np.meshgrid(x, y)\n",
    "C = X + 1j * Y\n",
    "\n",
    "# 计算每个点的Mandelbrot集迭代次数\n",
    "image = np.vectorize(mandel)(C, max_iters=100)\n",
    "\n",
    "# 绘制图像\n",
    "plt.imshow(image, cmap='hot', extent=(xmin, xmax, ymin, ymax))\n",
    "plt.colorbar()\n",
    "plt.title('Mandelbrot Set')\n",
    "plt.show()"
   ],
   "outputs": [],
   "execution_count": null
  },
  {
   "cell_type": "code",
   "execution_count": null,
   "id": "8e2d716a-208d-4c02-b962-0c8790e8d0e8",
   "metadata": {},
   "outputs": [],
   "source": []
  }
 ],
 "metadata": {
  "kernelspec": {
   "display_name": "Python 3 (ipykernel)",
   "language": "python",
   "name": "python3"
  },
  "language_info": {
   "codemirror_mode": {
    "name": "ipython",
    "version": 3
   },
   "file_extension": ".py",
   "mimetype": "text/x-python",
   "name": "python",
   "nbconvert_exporter": "python",
   "pygments_lexer": "ipython3",
   "version": "3.12.2"
  }
 },
 "nbformat": 4,
 "nbformat_minor": 5
}
