{
 "cells": [
  {
   "metadata": {
    "ExecuteTime": {
     "end_time": "2024-11-18T16:59:12.549918Z",
     "start_time": "2024-11-18T16:59:11.314827Z"
    }
   },
   "cell_type": "code",
   "source": [
    "from pandas.io.sas.sas_constants import subheader_pointer_length_x64\n",
    "from sympy import false\n",
    "from main import *"
   ],
   "outputs": [],
   "execution_count": 1
  },
  {
   "metadata": {
    "ExecuteTime": {
     "end_time": "2024-11-18T16:59:12.566280Z",
     "start_time": "2024-11-18T16:59:12.561539Z"
    }
   },
   "cell_type": "code",
   "source": [
    "model = PeriodicalPotential(strengthLambda=1.0, distanceD=1.0, gamma=2, kappa=0.01, L=0.25, agentsNum=1000, boundaryLength=5,\n",
    "                  tqdm=True, savePath=\"./data\", overWrite=True)\n",
    "# model.tempForK = model.tempForK"
   ],
   "outputs": [],
   "execution_count": 2
  },
  {
   "metadata": {
    "ExecuteTime": {
     "end_time": "2024-11-18T16:59:47.439764Z",
     "start_time": "2024-11-18T16:59:12.630763Z"
    }
   },
   "cell_type": "code",
   "source": "model.run(1000)",
   "outputs": [
    {
     "data": {
      "text/plain": [
       "  0%|          | 0/1000 [00:00<?, ?it/s]"
      ],
      "application/vnd.jupyter.widget-view+json": {
       "version_major": 2,
       "version_minor": 0,
       "model_id": "164515b8722143fe873cd6ffeb48d047"
      }
     },
     "metadata": {},
     "output_type": "display_data"
    }
   ],
   "execution_count": 3
  },
  {
   "metadata": {
    "ExecuteTime": {
     "end_time": "2024-11-18T16:59:47.452288Z",
     "start_time": "2024-11-18T16:59:47.445328Z"
    }
   },
   "cell_type": "code",
   "source": [
    "import pandas as pd\n",
    "from matplotlib.animation import FuncAnimation\n",
    "\n",
    "def draw_mp4(model):\n",
    "\n",
    "    targetPath = f\"./data/{model}.h5\"\n",
    "    totalPositionX = pd.read_hdf(targetPath, key=\"positionX\")\n",
    "    totalSpeed = pd.read_hdf(targetPath, key=\"speed\")\n",
    "    totalPhaseTheta = pd.read_hdf(targetPath, key=\"phaseTheta\")\n",
    "    totalPointThetaSpeed = pd.read_hdf(targetPath, key=\"pointThetaSpeed\")\n",
    "    TNum = totalPositionX.shape[0] // model.agentsNum\n",
    "    totalPositionX = totalPositionX.values.reshape(TNum, model.agentsNum, 2)\n",
    "    totalSpeed = totalSpeed.values.reshape(TNum, model.agentsNum, 2)\n",
    "    totalPhaseTheta = totalPhaseTheta.values.reshape(TNum, model.agentsNum)\n",
    "    totalPointThetaSpeed = totalPointThetaSpeed.values.reshape(TNum, model.agentsNum)\n",
    "    shift = 0\n",
    "    class1, class2 = (\n",
    "        np.concatenate([np.ones(model.agentsNum // 2), np.zeros(model.agentsNum // 2)]).astype(bool), \n",
    "        np.concatenate([np.zeros(model.agentsNum // 2), np.ones(model.agentsNum // 2)]).astype(bool)\n",
    "    )\n",
    "\n",
    "    def plot_frame(i):\n",
    "        pbar.update(1)\n",
    "        positionX = totalPositionX[i]\n",
    "        phaseTheta = totalPhaseTheta[i]\n",
    "        fig.clear()\n",
    "        ax1 = plt.subplot(1, 2, 1)\n",
    "        ax1.quiver(\n",
    "            positionX[class1, 0], positionX[class1, 1],\n",
    "            np.cos(phaseTheta[class1]), np.sin(phaseTheta[class1]), color='tomato'\n",
    "        )\n",
    "        ax1.quiver(\n",
    "            positionX[class2, 0], positionX[class2, 1],\n",
    "            np.cos(phaseTheta[class2]), np.sin(phaseTheta[class2]), color='dodgerblue'\n",
    "        )\n",
    "        limShift = 0\n",
    "        ax1.set_xlim(0 - limShift, model.boundaryLength + limShift)\n",
    "        ax1.set_ylim(0 - limShift, model.boundaryLength + limShift)\n",
    "\n",
    "        ax2 = plt.subplot(1, 2, 2, projection='3d')\n",
    "        hist, bins = np.histogram(phaseTheta[class1], bins=100, range=(-np.pi, np.pi))\n",
    "        # print(np.array([np.zeros_like(hist), hist]).shape)\n",
    "        ax2.plot_surface(\n",
    "            np.cos(bins[:-1]), np.sin(bins[:-1]), \n",
    "            np.array([np.zeros_like(hist), hist]), \n",
    "            color='tomato', alpha=0.5, edgecolor=\"tomato\"\n",
    "        )\n",
    "        hist, bins = np.histogram(phaseTheta[class2], bins=100, range=(-np.pi, np.pi))\n",
    "        ax2.plot_surface(\n",
    "            np.cos(bins[:-1]) + shift, np.sin(bins[:-1]) + shift,\n",
    "            np.array([np.zeros_like(hist), hist]), \n",
    "            color='dodgerblue', alpha=0.5, edgecolor=\"dodgerblue\"\n",
    "        )\n",
    "        ax2.set_xlabel(r\"$\\cos(\\theta_I)$\")\n",
    "        ax2.set_ylabel(r\"$\\sin(\\theta_I)$\")\n",
    "        ax2.set_zlabel(\"Count\")\n",
    "        ax2.set_zlim(0, 1000)\n",
    "\n",
    "    pbar = tqdm(total=TNum)\n",
    "    fig, ax = plt.subplots(figsize=(11, 5))\n",
    "    ani = ma.FuncAnimation(fig, plot_frame, frames=np.arange(0, TNum, 1), interval=50, repeat=False)\n",
    "    ani.save(f\"./mp4/{model}.mp4\", dpi=200, writer=\"ffmpeg\")\n",
    "    \n",
    "    plt.close()\n",
    "\n",
    "    pbar.close()"
   ],
   "outputs": [],
   "execution_count": 4
  },
  {
   "metadata": {
    "ExecuteTime": {
     "end_time": "2024-11-18T17:00:13.978506Z",
     "start_time": "2024-11-18T16:59:47.458242Z"
    }
   },
   "cell_type": "code",
   "source": "draw_mp4(model)",
   "outputs": [
    {
     "data": {
      "text/plain": [
       "  0%|          | 0/202 [00:00<?, ?it/s]"
      ],
      "application/vnd.jupyter.widget-view+json": {
       "version_major": 2,
       "version_minor": 0,
       "model_id": "f12d42e198514a7eb1b41f1b5ad76cf0"
      }
     },
     "metadata": {},
     "output_type": "display_data"
    }
   ],
   "execution_count": 5
  }
 ],
 "metadata": {
  "kernelspec": {
   "display_name": "Python 3 (ipykernel)",
   "language": "python",
   "name": "python3"
  },
  "language_info": {
   "codemirror_mode": {
    "name": "ipython",
    "version": 3
   },
   "file_extension": ".py",
   "mimetype": "text/x-python",
   "name": "python",
   "nbconvert_exporter": "python",
   "pygments_lexer": "ipython3",
   "version": "3.12.2"
  }
 },
 "nbformat": 4,
 "nbformat_minor": 4
}
